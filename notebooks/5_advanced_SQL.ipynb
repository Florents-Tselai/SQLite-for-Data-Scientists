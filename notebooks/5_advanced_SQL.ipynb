{
 "cells": [
  {
   "cell_type": "markdown",
   "metadata": {},
   "source": [
    "# SQLite for Data Scientists\n",
    "\n",
    "#### Produced & Presented by Florents Tselai - [tselai.com](tselai.com)"
   ]
  },
  {
   "cell_type": "markdown",
   "metadata": {},
   "source": [
    "## 5. ETL with Triggers"
   ]
  },
  {
   "cell_type": "markdown",
   "metadata": {},
   "source": [
    "An (SQLite) trigger is a named database object that is executed automatically when an INSERT, UPDATE or DELETE statement is issued against the associated table."
   ]
  },
  {
   "cell_type": "markdown",
   "metadata": {},
   "source": [
    "* Triggers can be used to specify ETL routines without paying the IO cost.\n",
    "* They are a simple way to leverage the so-called *pushdown optimization* (send the logic to the data)\n",
    "* They also ensure ACID-compliance"
   ]
  },
  {
   "cell_type": "markdown",
   "metadata": {},
   "source": [
    "They are generally regarded \"obscure\" for non-DBAs but can be great tool for a data practitioner's toolbelt"
   ]
  },
  {
   "cell_type": "code",
   "execution_count": 1,
   "metadata": {},
   "outputs": [],
   "source": [
    "import json\n",
    "import pandas as pd\n",
    "from gzip import GzipFile"
   ]
  },
  {
   "cell_type": "code",
   "execution_count": 2,
   "metadata": {},
   "outputs": [],
   "source": [
    "with GzipFile('../data/hn_dump.json.gz', 'r') as fin:\n",
    "    data = json.loads(fin.read().decode('utf-8'))"
   ]
  },
  {
   "cell_type": "code",
   "execution_count": 3,
   "metadata": {},
   "outputs": [
    {
     "data": {
      "text/plain": [
       "{'created_at': '2012-10-05T13:51:25.000Z',\n",
       " 'title': '',\n",
       " 'url': '',\n",
       " 'author': 'chris_wot',\n",
       " 'points': 136,\n",
       " 'story_text': None,\n",
       " 'comment_text': 'One of my proudest moments was finding a bug in SQLite where a corrupted index caused a select statement to segfault Firefox.<p>I jumped through a <i>lot</i> of hoops to get to the point where I got a backtrace that showed me the SQL statement of a corrupted places.sqlite. I then loaded SQLite on the data file, ran the statement and reproduced the segfault. One of their lead devs then got in contact with me, grabbed the data file and fixed the issue.<p>I suspect that not only did my diagnosis lead to a fix for a LOT of Firefox crashes, but it stopped a lot of frustrating crashes on things like iPhones, etc :-)<p>I may not have done the fix, but I took the time to reproduce the problem. It felt damn good :-)<p>P.S. in case anyone is interested, the bug is <a href=\"https://bugzilla.mozilla.org/show_bug.cgi?id=581946\" rel=\"nofollow\">https://bugzilla.mozilla.org/show_bug.cgi?id=581946</a> on Mozilla, and at SQLite it\\'s at <a href=\"http://www.sqlite.org/src/ci/83395a3d24\" rel=\"nofollow\">http://www.sqlite.org/src/ci/83395a3d24</a>',\n",
       " 'num_comments': None,\n",
       " 'story_id': 4616548,\n",
       " 'story_title': 'How SQLite is tested',\n",
       " 'story_url': 'http://www.sqlite.org/testing.html',\n",
       " 'parent_id': 4616548,\n",
       " 'created_at_i': 1349445085,\n",
       " 'relevancy_score': 4193,\n",
       " '_tags': ['comment', 'author_chris_wot', 'story_4616548'],\n",
       " 'objectID': '4616844',\n",
       " '_highlightResult': {'title': {'value': '',\n",
       "   'matchLevel': 'none',\n",
       "   'matchedWords': []},\n",
       "  'url': {'value': '', 'matchLevel': 'none', 'matchedWords': []},\n",
       "  'author': {'value': 'chris_wot', 'matchLevel': 'none', 'matchedWords': []},\n",
       "  'comment_text': {'value': 'One of my proudest moments was finding a bug in <em>SQLite</em> where a corrupted index caused a select statement to segfault Firefox.<p>I jumped through a <i>lot</i> of hoops to get to the point where I got a backtrace that showed me the SQL statement of a corrupted places.<em>sqlite</em>. I then loaded <em>SQLite</em> on the data file, ran the statement and reproduced the segfault. One of their lead devs then got in contact with me, grabbed the data file and fixed the issue.<p>I suspect that not only did my diagnosis lead to a fix for a LOT of Firefox crashes, but it stopped a lot of frustrating crashes on things like iPhones, etc :-)<p>I may not have done the fix, but I took the time to reproduce the problem. It felt damn good :-)<p>P.S. in case anyone is interested, the bug is <a href=\"https://bugzilla.mozilla.org/show_bug.cgi?id=581946\" rel=\"nofollow\">https://bugzilla.mozilla.org/show_bug.cgi?id=581946</a> on Mozilla, and at <em>SQLite</em> it\\'s at <a href=\"http://www.sqlite.org/src/ci/83395a3d24\" rel=\"nofollow\">http://www.<em>sqlite</em>.org/src/ci/83395a3d24</a>',\n",
       "   'matchLevel': 'full',\n",
       "   'fullyHighlighted': False,\n",
       "   'matchedWords': ['sqlite']},\n",
       "  'story_title': {'value': 'How <em>SQLite</em> is tested',\n",
       "   'matchLevel': 'full',\n",
       "   'fullyHighlighted': False,\n",
       "   'matchedWords': ['sqlite']},\n",
       "  'story_url': {'value': 'http://www.<em>sqlite</em>.org/testing.html',\n",
       "   'matchLevel': 'full',\n",
       "   'fullyHighlighted': False,\n",
       "   'matchedWords': ['sqlite']}}}"
      ]
     },
     "execution_count": 3,
     "metadata": {},
     "output_type": "execute_result"
    }
   ],
   "source": [
    "data[0]"
   ]
  },
  {
   "cell_type": "markdown",
   "metadata": {},
   "source": [
    "Let's create a *table* to store \"summarized\" view of the data"
   ]
  },
  {
   "cell_type": "code",
   "execution_count": 4,
   "metadata": {},
   "outputs": [],
   "source": [
    "from sqlite3 import connect\n",
    "DB_PATH = '../sqlite-olt.db'\n",
    "\n",
    "with connect(DB_PATH) as db:\n",
    "        db.execute(\"\"\"\n",
    "        create table if not exists items (\n",
    "            title      text,\n",
    "            points     int,\n",
    "            item_id    text primary key,\n",
    "            item_url   text,\n",
    "            created_at timestamp\n",
    "        );\n",
    "        \"\"\")"
   ]
  },
  {
   "cell_type": "markdown",
   "metadata": {},
   "source": [
    "Triggers usually follow a quite fine-grained syntax"
   ]
  },
  {
   "cell_type": "markdown",
   "metadata": {},
   "source": [
    "```\n",
    "CREATE TRIGGER [IF NOT EXISTS] trigger_name \n",
    "   [BEFORE|AFTER|INSTEAD OF] [INSERT|UPDATE|DELETE] \n",
    "   ON table_name\n",
    "   [WHEN condition]\n",
    "BEGIN\n",
    " statements;\n",
    "END;\n",
    "```"
   ]
  },
  {
   "cell_type": "markdown",
   "metadata": {},
   "source": [
    "We want to just dump json data on the `hn_raw_data` table and have the summarized view (i.e. selected fields) pushed to the `items` table."
   ]
  },
  {
   "cell_type": "code",
   "execution_count": 5,
   "metadata": {},
   "outputs": [],
   "source": [
    "with connect(DB_PATH) as db:\n",
    "    db.execute(\"\"\"\n",
    "            drop trigger if exists clean_hn_items_raw;\n",
    "    \"\"\")\n",
    "    db.execute(\"\"\"\n",
    "        create trigger if not exists clean_hn_items_raw\n",
    "            after\n",
    "        insert\n",
    "        on hn_items_raw\n",
    "            for each row\n",
    "        begin\n",
    "        insert into items\n",
    "        values (json_extract(new.data, '$.title'), json_extract(new.data, '$.points'), json_extract(new.data, '$.objectID'),\n",
    "                \"https://news.ycombinator.com/item?id=\" || json_extract(new.data, '$.objectID'),\n",
    "                json_extract(new.data, '$.created_at'))\n",
    "        on conflict do nothing;\n",
    "        end\n",
    "    \"\"\")"
   ]
  },
  {
   "cell_type": "code",
   "execution_count": 6,
   "metadata": {},
   "outputs": [],
   "source": [
    "import json\n",
    "with connect(DB_PATH) as db:\n",
    "    db.execute(\"insert into hn_items_raw(data) values (?)\", (json.dumps(data[0]),))"
   ]
  },
  {
   "cell_type": "markdown",
   "metadata": {},
   "source": [
    "What about performance ?"
   ]
  },
  {
   "cell_type": "markdown",
   "metadata": {},
   "source": [
    "### Question: \n",
    "\n",
    "How could we use a trigger to automatically have indexed comments for FTS as we did in the previous section ?"
   ]
  },
  {
   "cell_type": "code",
   "execution_count": 7,
   "metadata": {},
   "outputs": [],
   "source": [
    "with connect(DB_PATH) as db:\n",
    "    db.execute(\"\"\"\n",
    "            drop trigger if exists do_index_comments_text;\n",
    "    \"\"\")\n",
    "    db.execute(\"\"\"\n",
    "        create trigger if not exists do_index_comments_text\n",
    "            after\n",
    "        insert\n",
    "        on hn_items_raw\n",
    "            for each row\n",
    "        begin\n",
    "        insert into comments_fts\n",
    "        values (json_extract(new.data, '$.objectID'), \n",
    "        json_extract(new.data, '$.author'), json_extract(new.data, '$.comment_text'));\n",
    "        end\n",
    "    \"\"\")"
   ]
  },
  {
   "cell_type": "code",
   "execution_count": 8,
   "metadata": {},
   "outputs": [],
   "source": [
    "with connect(DB_PATH) as db:\n",
    "    db.execute(\"delete from comments_fts\")  "
   ]
  },
  {
   "cell_type": "code",
   "execution_count": 9,
   "metadata": {},
   "outputs": [],
   "source": [
    "with connect(DB_PATH) as db:\n",
    "    for item in data[:1000]:\n",
    "        db.execute(\"insert into hn_items_raw(data) values (?)\", (json.dumps(item),))"
   ]
  },
  {
   "cell_type": "code",
   "execution_count": null,
   "metadata": {},
   "outputs": [],
   "source": []
  }
 ],
 "metadata": {
  "kernelspec": {
   "display_name": "Python 3",
   "language": "python",
   "name": "python3"
  },
  "language_info": {
   "codemirror_mode": {
    "name": "ipython",
    "version": 3
   },
   "file_extension": ".py",
   "mimetype": "text/x-python",
   "name": "python",
   "nbconvert_exporter": "python",
   "pygments_lexer": "ipython3",
   "version": "3.8.5"
  }
 },
 "nbformat": 4,
 "nbformat_minor": 1
}
