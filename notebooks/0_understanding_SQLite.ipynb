{
 "cells": [
  {
   "cell_type": "markdown",
   "metadata": {
    "collapsed": true
   },
   "source": [
    "# SQLite for Data Scientists\n",
    "\n",
    "#### Produced & Presented by Florents Tselai - [tselai.com](tselai.com)"
   ]
  },
  {
   "cell_type": "markdown",
   "metadata": {},
   "source": [
    "*Introductory material based on `The Definitive Guide to SQLite, by Allen & Owens`*"
   ]
  },
  {
   "cell_type": "markdown",
   "metadata": {},
   "source": [
    "### An Embedded Database"
   ]
  },
  {
   "cell_type": "markdown",
   "metadata": {},
   "source": [
    "SQLite is an embedded database. Rather than running independently as a stand-alone process, it symbiotically coexists inside the application it serves -- within its process space.\n",
    "Its code is interwined, or *embedded*, as a part of the program that hosts it.\n",
    "\n",
    "There is no server or client.\n",
    "\n",
    "You can think of it as an **database you can import as a library**"
   ]
  },
  {
   "cell_type": "markdown",
   "metadata": {},
   "source": [
    "### SQLite's Features and Philosophy"
   ]
  },
  {
   "cell_type": "markdown",
   "metadata": {},
   "source": [
    "* Zero Configuration\n",
    "* Portability (& Cross-platform)\n",
    "* Compactness\n",
    "* Simplicity\n",
    "* Flexibility\n",
    "* Liberal Licensing\n",
    "* Reliability\n",
    "* Convenience"
   ]
  },
  {
   "cell_type": "markdown",
   "metadata": {},
   "source": [
    "### Performance\n",
    "\n",
    "**Danger**: *Always measure before you cut*"
   ]
  },
  {
   "cell_type": "markdown",
   "metadata": {},
   "source": [
    "* SQLite is usually as fast (if not faster) for searching in a single table\n",
    "    * Mainly because there is no preliminary back-and-forht between client and server (starting transactions, generating query plan, negotiating authentication)\n",
    "* SQLite becomes inferior as queries get more complex and query time overshadows network call & transaction overhead.\n",
    "    * There's no sophisticated optimizer or query planner\n",
    "    * It will always give you a result, but it won't be the optimal out of million of possible plans\n"
   ]
  },
  {
   "cell_type": "markdown",
   "metadata": {},
   "source": [
    "### Keep in mind"
   ]
  },
  {
   "cell_type": "markdown",
   "metadata": {},
   "source": [
    "* Queries data scientists run are mostly read-heavy\n",
    "* (SSD) Disks nowdays can be extremely fast & cheap"
   ]
  },
  {
   "cell_type": "markdown",
   "metadata": {},
   "source": [
    "### Limitations"
   ]
  },
  {
   "cell_type": "markdown",
   "metadata": {},
   "source": [
    "* Concurrency: Coarse-grained locking. Allows multiple readers but only one writer at a time.\n",
    "* Complete trigger support\n",
    "* Complete `ALTER TABLE` support\n",
    "* `RIGHT and FULL OUTER JOIN` --> Don't really need it\n",
    "* Updatable views\n",
    "* `GRANT` and `REVOKE` . The database is just a file after all."
   ]
  },
  {
   "cell_type": "markdown",
   "metadata": {},
   "source": [
    "### ACID Compliance\n",
    "\n",
    "#### Hugely important for data pipelines\n",
    "\n",
    "* **Atomicity**: All or nothing (important when updating multiple tables)\n",
    "* **Consistency**: Data is in consistent state when transaction starts and when it ends\n",
    "* **Isolation** Intermediate state of transactions is invisible to others. Transactions running concurrently seem to be serialized.\n",
    "* **Durability:** After transaction completes, changes to data persist and are not undone even in system failures \n",
    "\n"
   ]
  }
 ],
 "metadata": {
  "kernelspec": {
   "display_name": "Python 3",
   "language": "python",
   "name": "python3"
  },
  "language_info": {
   "codemirror_mode": {
    "name": "ipython",
    "version": 3
   },
   "file_extension": ".py",
   "mimetype": "text/x-python",
   "name": "python",
   "nbconvert_exporter": "python",
   "pygments_lexer": "ipython3",
   "version": "3.8.5"
  }
 },
 "nbformat": 4,
 "nbformat_minor": 1
}
