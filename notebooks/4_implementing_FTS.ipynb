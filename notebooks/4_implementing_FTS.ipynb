{
 "cells": [
  {
   "cell_type": "markdown",
   "metadata": {
    "collapsed": true
   },
   "source": [
    "# 4. Implementing Full-Text Search (FTS5)"
   ]
  },
  {
   "cell_type": "markdown",
   "metadata": {},
   "source": [
    "### Virtual Tables in SQLite\n",
    "\n",
    "A virtual table is an *object that is registered with an open SQLite database connection*. \n",
    "\n",
    "From the perspective of an SQL statement, the virtual table object looks like any other table or view. But behind the scenes, queries and updates on a virtual table invoke callback methods of the virtual table object instead of reading and writing on the database file.\n",
    "\n",
    "The virtual table mechanism allows an application to **publish interfaces** that are accessible from SQL statements as if they were tables. \n",
    "\n",
    "SQL statements can do almost anything to a virtual table that they can do to a real table, with the following exceptions:\n",
    "\n",
    "* One cannot create a trigger on a virtual table.\n",
    "* One cannot create additional indices on a virtual table. (Virtual tables can have indices but that must be built into the virtual table implementation. Indices cannot be added separately using CREATE INDEX statements.)\n",
    "* One cannot run ALTER TABLE ... ADD COLUMN commands against a virtual table.\n",
    "* Individual virtual table implementations might impose additional constraints. For example, some virtual implementations might provide read-only tables. Or some virtual table implementations might allow INSERT or DELETE but not UPDATE. Or some virtual table implementations might limit the kinds of UPDATEs that can be made.\n",
    "\n",
    "A virtual table might represent an in-memory data structures. Or it might represent a view of data on disk that is not in the SQLite format. Or the application might compute the content of the virtual table on demand."
   ]
  },
  {
   "cell_type": "markdown",
   "metadata": {},
   "source": [
    "## FTS5"
   ]
  },
  {
   "cell_type": "code",
   "execution_count": null,
   "metadata": {},
   "outputs": [],
   "source": [
    "import json\n",
    "import pandas as pd\n",
    "from sqlite3 import connect\n",
    "\n",
    "DB_PATH = '../sqlite-olt.db'"
   ]
  },
  {
   "cell_type": "code",
   "execution_count": null,
   "metadata": {},
   "outputs": [],
   "source": [
    "with connect(DB_PATH) as db:\n",
    "    comments_text_df = pd.read_sql(\"\"\"\n",
    "                    select \n",
    "                    json_extract(data, '$.objectID') as objectID,\n",
    "                    json_extract(data, '$.author') as author,\n",
    "                    json_extract(data, '$.comment_text') as comment_text,\n",
    "                    json_extract(data, '$._tags') as tags,\n",
    "                    length(json_extract(data, '$.comment_text')) as comment_text_length\n",
    "                    from hn_items_raw\n",
    "                    where comment_text notnull and tags notnull\n",
    "                    \"\"\",db\n",
    "                    )"
   ]
  },
  {
   "cell_type": "code",
   "execution_count": null,
   "metadata": {},
   "outputs": [],
   "source": [
    "comments_text_df['comment_text'][0]"
   ]
  },
  {
   "cell_type": "markdown",
   "metadata": {},
   "source": [
    "FTS5 is an SQLite virtual table module that provides full-text search functionality to database applications. In their most elementary form, full-text search engines allow the user to efficiently search a large collection of documents for the subset that contain one or more instances of a search term. The search functionality provided to world wide web users by Google is, among other things, a full-text search engine, as it allows users to search for all documents on the web that contain, for example, the term \"fts5\".\n",
    "\n",
    "To use FTS5, the user creates an FTS5 virtual table with one or more columns. For example:\n",
    "\n",
    "CREATE VIRTUAL TABLE email USING fts5(sender, title, body);\n",
    "It is an error to add types, constraints or PRIMARY KEY declarations to a CREATE VIRTUAL TABLE statement used to create an FTS5 table. Once created, an FTS5 table may be populated using INSERT, UPDATE or DELETE statements like any other table. Like any other table with no PRIMARY KEY declaration, an FTS5 table has an implicit INTEGER PRIMARY KEY field named rowid."
   ]
  },
  {
   "cell_type": "code",
   "execution_count": null,
   "metadata": {},
   "outputs": [],
   "source": [
    "with connect(DB_PATH) as db:\n",
    "    db.execute(\"\"\"\n",
    "    DROP TABLE IF EXISTS comments_fts;\n",
    "    \"\"\")\n",
    "    db.execute(\"\"\"\n",
    "    CREATE VIRTUAL TABLE comments_fts USING fts5(objectID, author, comment_text);\n",
    "    \"\"\")\n",
    "    \n",
    "    db.execute(\"\"\"\n",
    "    DELETE FROM comments_fts;\n",
    "    \"\"\")"
   ]
  },
  {
   "cell_type": "code",
   "execution_count": null,
   "metadata": {},
   "outputs": [],
   "source": [
    "with connect(DB_PATH) as db:\n",
    "    comments_text_df[['objectID', 'author', 'comment_text']].to_sql('comments_fts', db, if_exists='append', index=False)"
   ]
  },
  {
   "cell_type": "markdown",
   "metadata": {},
   "source": [
    "Once populated, there are three ways to execute a full-text query against the contents of an FTS5 table:\n",
    "\n",
    "* Using a MATCH operator in the WHERE clause of a SELECT statement, or\n",
    "* Using an equals (\"=\") operator in the WHERE clause of a SELECT statement, or\n",
    "* using the table-valued function syntax.\n"
   ]
  },
  {
   "cell_type": "markdown",
   "metadata": {},
   "source": [
    "If using the MATCH or = operators, the expression to the left of the MATCH operator is usually the **name of the FTS5 table** (the exception is when specifying a column-filter). "
   ]
  },
  {
   "cell_type": "markdown",
   "metadata": {},
   "source": [
    "We usually search on the **whole table**"
   ]
  },
  {
   "cell_type": "code",
   "execution_count": null,
   "metadata": {},
   "outputs": [],
   "source": [
    "with connect(DB_PATH) as db:\n",
    "    search_df = pd.read_sql(\"\"\"\n",
    "                    select *\n",
    "                    from comments_fts\n",
    "                    where comments_fts MATCH 'bane'\n",
    "                    \"\"\",db\n",
    "                    )\n",
    "search_df"
   ]
  },
  {
   "cell_type": "code",
   "execution_count": null,
   "metadata": {},
   "outputs": [],
   "source": [
    "search_df.iloc[85]['comment_text']"
   ]
  },
  {
   "cell_type": "markdown",
   "metadata": {},
   "source": [
    "We can of course search on specific columns"
   ]
  },
  {
   "cell_type": "code",
   "execution_count": null,
   "metadata": {},
   "outputs": [],
   "source": [
    "%%timeit\n",
    "with connect(DB_PATH) as db:\n",
    "    search_df = pd.read_sql(\"\"\"\n",
    "                    select *\n",
    "                    from comments_fts\n",
    "                    where comment_text MATCH 'SQLite'\n",
    "                    \"\"\",db\n",
    "                    )\n",
    "search_df"
   ]
  },
  {
   "cell_type": "code",
   "execution_count": null,
   "metadata": {},
   "outputs": [],
   "source": [
    "%%timeit\n",
    "with connect(DB_PATH) as db:\n",
    "    search_df = pd.read_sql(\"\"\"\n",
    "                    select *\n",
    "                    from comments_fts\n",
    "                    where comment_text LIKE '%SQLite%'\n",
    "                    \"\"\",db\n",
    "                    )\n",
    "search_df"
   ]
  },
  {
   "cell_type": "markdown",
   "metadata": {},
   "source": [
    "We can also order by relevance"
   ]
  },
  {
   "cell_type": "code",
   "execution_count": null,
   "metadata": {},
   "outputs": [],
   "source": [
    "with connect(DB_PATH) as db:\n",
    "    search_df = pd.read_sql(\"\"\"\n",
    "                    select *\n",
    "                    from comments_fts\n",
    "                    where comment_text MATCH 'SQLite'\n",
    "                    order by rank\n",
    "                    \"\"\",db\n",
    "                    )\n",
    "search_df"
   ]
  },
  {
   "cell_type": "markdown",
   "metadata": {},
   "source": [
    "Auxiliary functions can be used to retrieve extra information regarding the matched row. \n",
    "\n",
    "For example, an auxiliary function may be used to retrieve a copy of a column value for a matched row with all instances of the matched term surrounded by html <b></b> tags."
   ]
  },
  {
   "cell_type": "code",
   "execution_count": null,
   "metadata": {},
   "outputs": [],
   "source": [
    "with connect(DB_PATH) as db:\n",
    "    search_df = pd.read_sql(\"\"\"\n",
    "                    SELECT highlight(comments_fts, 2, '<b>', '</b>') as matches\n",
    "                    FROM comments_fts\n",
    "                    WHERE comment_text MATCH 'SQLite' and comment_text MATCH 'redis'\n",
    "                    \"\"\",db\n",
    "                    )\n",
    "search_df"
   ]
  },
  {
   "cell_type": "code",
   "execution_count": null,
   "metadata": {},
   "outputs": [],
   "source": [
    "search_df['matches'][1]"
   ]
  },
  {
   "cell_type": "markdown",
   "metadata": {},
   "source": [
    "### Searching for strings"
   ]
  },
  {
   "cell_type": "code",
   "execution_count": null,
   "metadata": {},
   "outputs": [],
   "source": [
    "with connect(DB_PATH) as db:\n",
    "    search_df = pd.read_sql(\"\"\"\n",
    "                    SELECT highlight(comments_fts, 2, '<b>', '</b>') as matches\n",
    "                    FROM comments_fts\n",
    "                    WHERE comment_text MATCH '\"database system\"'\n",
    "                    \"\"\",db\n",
    "                    )\n",
    "search_df"
   ]
  },
  {
   "cell_type": "code",
   "execution_count": null,
   "metadata": {},
   "outputs": [],
   "source": [
    "search_df.matches[0]"
   ]
  },
  {
   "cell_type": "markdown",
   "metadata": {},
   "source": [
    "### Searching for phrases"
   ]
  },
  {
   "cell_type": "code",
   "execution_count": null,
   "metadata": {},
   "outputs": [],
   "source": [
    "with connect(DB_PATH) as db:\n",
    "    search_df = pd.read_sql(\"\"\"\n",
    "                    SELECT highlight(comments_fts, 2, '<***>', '</***>') as matches\n",
    "                    FROM comments_fts\n",
    "                    WHERE comment_text MATCH 'Redis + sqlite'\n",
    "                    \"\"\",db\n",
    "                    )\n",
    "search_df"
   ]
  },
  {
   "cell_type": "code",
   "execution_count": null,
   "metadata": {},
   "outputs": [],
   "source": [
    "search_df['matches'][10]"
   ]
  },
  {
   "cell_type": "markdown",
   "metadata": {},
   "source": [
    "### Prefix queries"
   ]
  },
  {
   "cell_type": "code",
   "execution_count": null,
   "metadata": {},
   "outputs": [],
   "source": [
    "with connect(DB_PATH) as db:\n",
    "    search_df = pd.read_sql(\"\"\"\n",
    "                    SELECT highlight(comments_fts, 2, '<***>', '</***>') as matches\n",
    "                    FROM comments_fts\n",
    "                    WHERE comment_text MATCH 'stats*'\n",
    "                    \"\"\",db\n",
    "                    )\n",
    "search_df"
   ]
  },
  {
   "cell_type": "code",
   "execution_count": null,
   "metadata": {},
   "outputs": [],
   "source": [
    "search_df['matches'][10]"
   ]
  }
 ],
 "metadata": {
  "kernelspec": {
   "display_name": "Python 3",
   "language": "python",
   "name": "python3"
  },
  "language_info": {
   "codemirror_mode": {
    "name": "ipython",
    "version": 3
   },
   "file_extension": ".py",
   "mimetype": "text/x-python",
   "name": "python",
   "nbconvert_exporter": "python",
   "pygments_lexer": "ipython3",
   "version": "3.8.5"
  }
 },
 "nbformat": 4,
 "nbformat_minor": 1
}
