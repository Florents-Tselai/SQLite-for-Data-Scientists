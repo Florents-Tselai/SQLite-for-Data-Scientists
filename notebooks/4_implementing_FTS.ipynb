{
 "cells": [
  {
   "cell_type": "markdown",
   "metadata": {
    "collapsed": true
   },
   "source": [
    "# 4. Implementing Full-Text Search (FTS5)"
   ]
  },
  {
   "cell_type": "code",
   "execution_count": null,
   "metadata": {},
   "outputs": [],
   "source": [
    "import json\n",
    "import pandas as pd\n",
    "from sqlite3 import connect\n",
    "\n",
    "DB_PATH = '../sqlite-olt.db'"
   ]
  },
  {
   "cell_type": "code",
   "execution_count": null,
   "metadata": {},
   "outputs": [],
   "source": [
    "with connect(DB_PATH) as db:\n",
    "    comments_text_df = pd.read_sql(\"\"\"\n",
    "                    select \n",
    "                    json_extract(data, '$.objectID') as objectID,\n",
    "                    json_extract(data, '$.comment_text') as comment_text,\n",
    "                    length(json_extract(data, '$.comment_text')) as comment_text_length\n",
    "                    from hn_items_raw\n",
    "                    where json_extract(data, '$.comment_text') notnull\n",
    "                    \"\"\",db\n",
    "                    )"
   ]
  },
  {
   "cell_type": "code",
   "execution_count": null,
   "metadata": {},
   "outputs": [],
   "source": [
    "comments_text_df"
   ]
  },
  {
   "cell_type": "code",
   "execution_count": null,
   "metadata": {},
   "outputs": [],
   "source": [
    "with connect(DB_PATH) as db:\n",
    "    db.execute(\"\"\"\n",
    "    DROP TABLE IF EXISTS comments_fts;\n",
    "    \"\"\")\n",
    "    db.execute(\"\"\"\n",
    "    CREATE VIRTUAL TABLE comments_fts USING fts5(objectID, comment_text);\n",
    "    \"\"\")"
   ]
  },
  {
   "cell_type": "code",
   "execution_count": null,
   "metadata": {},
   "outputs": [],
   "source": [
    "with connect(DB_PATH) as db:\n",
    "    comments_text_df[['objectID', 'comment_text']].to_sql('comments_fts', db, if_exists='append', index=False)"
   ]
  },
  {
   "cell_type": "code",
   "execution_count": null,
   "metadata": {},
   "outputs": [],
   "source": [
    "with connect(DB_PATH) as db:\n",
    "    search_sqlite = pd.read_sql(\"\"\"\n",
    "                    select *\n",
    "                    from comments_fts\n",
    "                    where comment_text MATCH 'SQLite'\n",
    "                    \"\"\",db\n",
    "                    )\n",
    "    \n",
    "search_sqlite"
   ]
  },
  {
   "cell_type": "code",
   "execution_count": null,
   "metadata": {},
   "outputs": [],
   "source": []
  }
 ],
 "metadata": {
  "kernelspec": {
   "display_name": "Python 3",
   "language": "python",
   "name": "python3"
  },
  "language_info": {
   "codemirror_mode": {
    "name": "ipython",
    "version": 3
   },
   "file_extension": ".py",
   "mimetype": "text/x-python",
   "name": "python",
   "nbconvert_exporter": "python",
   "pygments_lexer": "ipython3",
   "version": "3.8.5"
  }
 },
 "nbformat": 4,
 "nbformat_minor": 1
}
