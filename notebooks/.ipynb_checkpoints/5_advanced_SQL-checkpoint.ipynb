{
 "cells": [
  {
   "cell_type": "markdown",
   "metadata": {},
   "source": [
    "# SQLite for Data Scientists\n",
    "\n",
    "#### Produced & Presented by Florents Tselai - [tselai.com](tselai.com)"
   ]
  },
  {
   "cell_type": "markdown",
   "metadata": {},
   "source": [
    "## 5. ETL with Triggers"
   ]
  },
  {
   "cell_type": "markdown",
   "metadata": {},
   "source": [
    "An (SQLite) trigger is a named database object that is executed automatically when an INSERT, UPDATE or DELETE statement is issued against the associated table."
   ]
  },
  {
   "cell_type": "markdown",
   "metadata": {},
   "source": [
    "* Triggers can be used to specify ETL routines without paying the IO cost.\n",
    "* They are a simple way to leverage the so-called *pushdown optimization* (send the logic to the data)\n",
    "* They also ensure ACID-compliance"
   ]
  },
  {
   "cell_type": "markdown",
   "metadata": {},
   "source": [
    "They are generally regarded \"obscure\" for non-DBAs but can be great tool for a data practitioner's toolbelt"
   ]
  },
  {
   "cell_type": "code",
   "execution_count": null,
   "metadata": {},
   "outputs": [],
   "source": [
    "import json\n",
    "import pandas as pd\n",
    "from gzip import GzipFile"
   ]
  },
  {
   "cell_type": "code",
   "execution_count": null,
   "metadata": {},
   "outputs": [],
   "source": [
    "with GzipFile('../data/hn_dump.json.gz', 'r') as fin:\n",
    "    data = json.loads(fin.read().decode('utf-8'))"
   ]
  },
  {
   "cell_type": "code",
   "execution_count": null,
   "metadata": {},
   "outputs": [],
   "source": [
    "data[0]"
   ]
  },
  {
   "cell_type": "markdown",
   "metadata": {},
   "source": [
    "Let's create a *table* to store \"summarized\" view of the data"
   ]
  },
  {
   "cell_type": "code",
   "execution_count": null,
   "metadata": {},
   "outputs": [],
   "source": [
    "from sqlite3 import connect\n",
    "DB_PATH = '../sqlite-olt.db'\n",
    "\n",
    "with connect(DB_PATH) as db:\n",
    "        db.execute(\"\"\"\n",
    "        create table if not exists items (\n",
    "            title      text,\n",
    "            points     int,\n",
    "            item_id    text primary key,\n",
    "            item_url   text,\n",
    "            created_at timestamp\n",
    "        );\n",
    "        \"\"\")"
   ]
  },
  {
   "cell_type": "markdown",
   "metadata": {},
   "source": [
    "Triggers usually follow a quite fine-grained syntax"
   ]
  },
  {
   "cell_type": "markdown",
   "metadata": {},
   "source": [
    "```\n",
    "CREATE TRIGGER [IF NOT EXISTS] trigger_name \n",
    "   [BEFORE|AFTER|INSTEAD OF] [INSERT|UPDATE|DELETE] \n",
    "   ON table_name\n",
    "   [WHEN condition]\n",
    "BEGIN\n",
    " statements;\n",
    "END;\n",
    "```"
   ]
  },
  {
   "cell_type": "markdown",
   "metadata": {},
   "source": [
    "We want to just dump json data on the `hn_raw_data` table and have the summarized view (i.e. selected fields) pushed to the `items` table."
   ]
  },
  {
   "cell_type": "code",
   "execution_count": null,
   "metadata": {},
   "outputs": [],
   "source": [
    "with connect(DB_PATH) as db:\n",
    "    db.execute(\"\"\"\n",
    "            drop trigger if exists clean_hn_items_raw;\n",
    "    \"\"\")\n",
    "    db.execute(\"\"\"\n",
    "        create trigger if not exists clean_hn_items_raw\n",
    "            after\n",
    "        insert\n",
    "        on hn_items_raw\n",
    "            for each row\n",
    "        begin\n",
    "        insert into items\n",
    "        values (json_extract(new.data, '$.title'), json_extract(new.data, '$.points'), json_extract(new.data, '$.objectID'),\n",
    "                \"https://news.ycombinator.com/item?id=\" || json_extract(new.data, '$.objectID'),\n",
    "                json_extract(new.data, '$.created_at'))\n",
    "        on conflict do nothing;\n",
    "        end\n",
    "    \"\"\")"
   ]
  },
  {
   "cell_type": "code",
   "execution_count": null,
   "metadata": {},
   "outputs": [],
   "source": [
    "import json\n",
    "with connect(DB_PATH) as db:\n",
    "    db.execute(\"insert into hn_items_raw(data) values (?)\", (json.dumps(data[0]),))"
   ]
  },
  {
   "cell_type": "markdown",
   "metadata": {},
   "source": [
    "What about performance ?"
   ]
  },
  {
   "cell_type": "markdown",
   "metadata": {},
   "source": [
    "### Question: \n",
    "\n",
    "How could we use a trigger to automatically have indexed comments for FTS as we did in the previous section ?"
   ]
  },
  {
   "cell_type": "code",
   "execution_count": null,
   "metadata": {},
   "outputs": [],
   "source": [
    "with connect(DB_PATH) as db:\n",
    "    db.execute(\"\"\"\n",
    "            drop trigger if exists do_index_comments_text;\n",
    "    \"\"\")\n",
    "    db.execute(\"\"\"\n",
    "        create trigger if not exists do_index_comments_text\n",
    "            after\n",
    "        insert\n",
    "        on hn_items_raw\n",
    "            for each row\n",
    "        begin\n",
    "        insert into comments_fts\n",
    "        values (json_extract(new.data, '$.objectID'), \n",
    "        json_extract(new.data, '$.author'), json_extract(new.data, '$.comment_text'));\n",
    "        end\n",
    "    \"\"\")"
   ]
  },
  {
   "cell_type": "code",
   "execution_count": null,
   "metadata": {},
   "outputs": [],
   "source": [
    "with connect(DB_PATH) as db:\n",
    "    db.execute(\"delete from comments_fts\")  "
   ]
  },
  {
   "cell_type": "code",
   "execution_count": null,
   "metadata": {},
   "outputs": [],
   "source": [
    "with connect(DB_PATH) as db:\n",
    "    for item in data[:1000]:\n",
    "        db.execute(\"insert into hn_items_raw(data) values (?)\", (json.dumps(item),))"
   ]
  }
 ],
 "metadata": {
  "kernelspec": {
   "display_name": "Python 3 (ipykernel)",
   "language": "python",
   "name": "python3"
  },
  "language_info": {
   "codemirror_mode": {
    "name": "ipython",
    "version": 3
   },
   "file_extension": ".py",
   "mimetype": "text/x-python",
   "name": "python",
   "nbconvert_exporter": "python",
   "pygments_lexer": "ipython3",
   "version": "3.9.7"
  }
 },
 "nbformat": 4,
 "nbformat_minor": 1
}
