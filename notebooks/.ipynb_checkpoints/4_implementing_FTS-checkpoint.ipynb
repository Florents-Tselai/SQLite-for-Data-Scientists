{
 "cells": [
  {
   "cell_type": "markdown",
   "metadata": {},
   "source": [
    "# SQLite for Data Scientists\n",
    "\n",
    "#### Produced & Presented by Florents Tselai - [tselai.com](tselai.com)"
   ]
  },
  {
   "cell_type": "markdown",
   "metadata": {
    "collapsed": true
   },
   "source": [
    "# 4. Implementing Full-Text Search (FTS5)"
   ]
  },
  {
   "cell_type": "markdown",
   "metadata": {},
   "source": [
    "### Virtual Tables in SQLite\n",
    "\n",
    "A virtual table is an *object that is registered with an open SQLite database connection*. \n",
    "\n",
    "From the perspective of an SQL statement, the virtual table object looks like any other table or view. But behind the scenes, queries and updates on a virtual table invoke callback methods of the virtual table object instead of reading and writing on the database file.\n",
    "\n",
    "The virtual table mechanism allows an application to **publish interfaces** that are accessible from SQL statements as if they were tables. \n",
    "\n",
    "SQL statements can do almost anything to a virtual table that they can do to a real table, with the following exceptions:\n",
    "\n",
    "* One cannot create a trigger on a virtual table.\n",
    "* One cannot create additional indices on a virtual table. (Virtual tables can have indices but that must be built into the virtual table implementation. Indices cannot be added separately using CREATE INDEX statements.)\n",
    "* One cannot run ALTER TABLE ... ADD COLUMN commands against a virtual table.\n",
    "* Individual virtual table implementations might impose additional constraints. For example, some virtual implementations might provide read-only tables. Or some virtual table implementations might allow INSERT or DELETE but not UPDATE. Or some virtual table implementations might limit the kinds of UPDATEs that can be made.\n",
    "\n",
    "A virtual table might represent an in-memory data structures. Or it might represent a view of data on disk that is not in the SQLite format. Or the application might compute the content of the virtual table on demand."
   ]
  },
  {
   "cell_type": "markdown",
   "metadata": {},
   "source": [
    "## FTS5"
   ]
  },
  {
   "cell_type": "code",
   "execution_count": 1,
   "metadata": {},
   "outputs": [],
   "source": [
    "import json\n",
    "import pandas as pd\n",
    "from sqlite3 import connect\n",
    "\n",
    "DB_PATH = '../sqlite-olt.db'"
   ]
  },
  {
   "cell_type": "code",
   "execution_count": 2,
   "metadata": {},
   "outputs": [],
   "source": [
    "with connect(DB_PATH) as db:\n",
    "    comments_text_df = pd.read_sql(\"\"\"\n",
    "                    select \n",
    "                    json_extract(data, '$.objectID') as objectID,\n",
    "                    json_extract(data, '$.author') as author,\n",
    "                    json_extract(data, '$.comment_text') as comment_text,\n",
    "                    json_extract(data, '$._tags') as tags,\n",
    "                    length(json_extract(data, '$.comment_text')) as comment_text_length\n",
    "                    from hn_items_raw\n",
    "                    where comment_text notnull and tags notnull\n",
    "                    \"\"\",db\n",
    "                    )"
   ]
  },
  {
   "cell_type": "code",
   "execution_count": 3,
   "metadata": {},
   "outputs": [
    {
     "data": {
      "text/plain": [
       "'One of my proudest moments was finding a bug in SQLite where a corrupted index caused a select statement to segfault Firefox.<p>I jumped through a <i>lot</i> of hoops to get to the point where I got a backtrace that showed me the SQL statement of a corrupted places.sqlite. I then loaded SQLite on the data file, ran the statement and reproduced the segfault. One of their lead devs then got in contact with me, grabbed the data file and fixed the issue.<p>I suspect that not only did my diagnosis lead to a fix for a LOT of Firefox crashes, but it stopped a lot of frustrating crashes on things like iPhones, etc :-)<p>I may not have done the fix, but I took the time to reproduce the problem. It felt damn good :-)<p>P.S. in case anyone is interested, the bug is <a href=\"https://bugzilla.mozilla.org/show_bug.cgi?id=581946\" rel=\"nofollow\">https://bugzilla.mozilla.org/show_bug.cgi?id=581946</a> on Mozilla, and at SQLite it\\'s at <a href=\"http://www.sqlite.org/src/ci/83395a3d24\" rel=\"nofollow\">http://www.sqlite.org/src/ci/83395a3d24</a>'"
      ]
     },
     "execution_count": 3,
     "metadata": {},
     "output_type": "execute_result"
    }
   ],
   "source": [
    "comments_text_df['comment_text'][0]"
   ]
  },
  {
   "cell_type": "markdown",
   "metadata": {},
   "source": [
    "FTS5 is an SQLite virtual table module that provides full-text search functionality to database applications. In their most elementary form, full-text search engines allow the user to efficiently search a large collection of documents for the subset that contain one or more instances of a search term. The search functionality provided to world wide web users by Google is, among other things, a full-text search engine, as it allows users to search for all documents on the web that contain, for example, the term \"fts5\".\n",
    "\n",
    "To use FTS5, the user creates an FTS5 virtual table with one or more columns. For example:\n",
    "\n",
    "CREATE VIRTUAL TABLE email USING fts5(sender, title, body);\n",
    "It is an error to add types, constraints or PRIMARY KEY declarations to a CREATE VIRTUAL TABLE statement used to create an FTS5 table. Once created, an FTS5 table may be populated using INSERT, UPDATE or DELETE statements like any other table. Like any other table with no PRIMARY KEY declaration, an FTS5 table has an implicit INTEGER PRIMARY KEY field named rowid."
   ]
  },
  {
   "cell_type": "code",
   "execution_count": 4,
   "metadata": {},
   "outputs": [],
   "source": [
    "with connect(DB_PATH) as db:\n",
    "    db.execute(\"\"\"\n",
    "    DROP TABLE IF EXISTS comments_fts;\n",
    "    \"\"\")\n",
    "    db.execute(\"\"\"\n",
    "    CREATE VIRTUAL TABLE comments_fts USING fts5(objectID, author, comment_text);\n",
    "    \"\"\")\n",
    "    \n",
    "    db.execute(\"\"\"\n",
    "    DELETE FROM comments_fts;\n",
    "    \"\"\")"
   ]
  },
  {
   "cell_type": "code",
   "execution_count": 5,
   "metadata": {},
   "outputs": [],
   "source": [
    "with connect(DB_PATH) as db:\n",
    "    comments_text_df[['objectID', 'author', 'comment_text']].to_sql('comments_fts', db, if_exists='append', index=False)"
   ]
  },
  {
   "cell_type": "markdown",
   "metadata": {},
   "source": [
    "Once populated, there are three ways to execute a full-text query against the contents of an FTS5 table:\n",
    "\n",
    "* Using a MATCH operator in the WHERE clause of a SELECT statement, or\n",
    "* Using an equals (\"=\") operator in the WHERE clause of a SELECT statement, or\n",
    "* using the table-valued function syntax.\n"
   ]
  },
  {
   "cell_type": "markdown",
   "metadata": {},
   "source": [
    "If using the MATCH or = operators, the expression to the left of the MATCH operator is usually the **name of the FTS5 table** (the exception is when specifying a column-filter). "
   ]
  },
  {
   "cell_type": "markdown",
   "metadata": {},
   "source": [
    "We usually search on the **whole table**"
   ]
  },
  {
   "cell_type": "code",
   "execution_count": 6,
   "metadata": {},
   "outputs": [
    {
     "data": {
      "text/html": [
       "<div>\n",
       "<style scoped>\n",
       "    .dataframe tbody tr th:only-of-type {\n",
       "        vertical-align: middle;\n",
       "    }\n",
       "\n",
       "    .dataframe tbody tr th {\n",
       "        vertical-align: top;\n",
       "    }\n",
       "\n",
       "    .dataframe thead th {\n",
       "        text-align: right;\n",
       "    }\n",
       "</style>\n",
       "<table border=\"1\" class=\"dataframe\">\n",
       "  <thead>\n",
       "    <tr style=\"text-align: right;\">\n",
       "      <th></th>\n",
       "      <th>objectID</th>\n",
       "      <th>author</th>\n",
       "      <th>comment_text</th>\n",
       "    </tr>\n",
       "  </thead>\n",
       "  <tbody>\n",
       "    <tr>\n",
       "      <th>0</th>\n",
       "      <td>5758957</td>\n",
       "      <td>bane</td>\n",
       "      <td>Fun SQLite story, I had a project that needed ...</td>\n",
       "    </tr>\n",
       "    <tr>\n",
       "      <th>1</th>\n",
       "      <td>4169320</td>\n",
       "      <td>bane</td>\n",
       "      <td>Sqlite is really just one of those rare softwa...</td>\n",
       "    </tr>\n",
       "    <tr>\n",
       "      <th>2</th>\n",
       "      <td>5760534</td>\n",
       "      <td>bane</td>\n",
       "      <td>(once again why HN is awesome)&lt;p&gt;Thank you tha...</td>\n",
       "    </tr>\n",
       "    <tr>\n",
       "      <th>3</th>\n",
       "      <td>5759117</td>\n",
       "      <td>bane</td>\n",
       "      <td>One thing to ponder about single user apps run...</td>\n",
       "    </tr>\n",
       "    <tr>\n",
       "      <th>4</th>\n",
       "      <td>6816146</td>\n",
       "      <td>bane</td>\n",
       "      <td>Anybody know how the defect rates in SQLite co...</td>\n",
       "    </tr>\n",
       "    <tr>\n",
       "      <th>...</th>\n",
       "      <td>...</td>\n",
       "      <td>...</td>\n",
       "      <td>...</td>\n",
       "    </tr>\n",
       "    <tr>\n",
       "      <th>706</th>\n",
       "      <td>6816146</td>\n",
       "      <td>bane</td>\n",
       "      <td>Anybody know how the defect rates in SQLite co...</td>\n",
       "    </tr>\n",
       "    <tr>\n",
       "      <th>707</th>\n",
       "      <td>7886806</td>\n",
       "      <td>bane</td>\n",
       "      <td>Wait until you hear about &amp;quot;fractal storag...</td>\n",
       "    </tr>\n",
       "    <tr>\n",
       "      <th>708</th>\n",
       "      <td>4661159</td>\n",
       "      <td>bane</td>\n",
       "      <td>I wonder if anybody has dared guestimate how m...</td>\n",
       "    </tr>\n",
       "    <tr>\n",
       "      <th>709</th>\n",
       "      <td>4740250</td>\n",
       "      <td>bane</td>\n",
       "      <td>It's a fun way to find sequential tokens (word...</td>\n",
       "    </tr>\n",
       "    <tr>\n",
       "      <th>710</th>\n",
       "      <td>4170028</td>\n",
       "      <td>bane</td>\n",
       "      <td>Oh it's clearly some of the best/worst kind of...</td>\n",
       "    </tr>\n",
       "  </tbody>\n",
       "</table>\n",
       "<p>711 rows × 3 columns</p>\n",
       "</div>"
      ],
      "text/plain": [
       "    objectID author                                       comment_text\n",
       "0    5758957   bane  Fun SQLite story, I had a project that needed ...\n",
       "1    4169320   bane  Sqlite is really just one of those rare softwa...\n",
       "2    5760534   bane  (once again why HN is awesome)<p>Thank you tha...\n",
       "3    5759117   bane  One thing to ponder about single user apps run...\n",
       "4    6816146   bane  Anybody know how the defect rates in SQLite co...\n",
       "..       ...    ...                                                ...\n",
       "706  6816146   bane  Anybody know how the defect rates in SQLite co...\n",
       "707  7886806   bane  Wait until you hear about &quot;fractal storag...\n",
       "708  4661159   bane  I wonder if anybody has dared guestimate how m...\n",
       "709  4740250   bane  It's a fun way to find sequential tokens (word...\n",
       "710  4170028   bane  Oh it's clearly some of the best/worst kind of...\n",
       "\n",
       "[711 rows x 3 columns]"
      ]
     },
     "execution_count": 6,
     "metadata": {},
     "output_type": "execute_result"
    }
   ],
   "source": [
    "with connect(DB_PATH) as db:\n",
    "    search_df = pd.read_sql(\"\"\"\n",
    "                    select *\n",
    "                    from comments_fts\n",
    "                    where comments_fts MATCH 'bane'\n",
    "                    \"\"\",db\n",
    "                    )\n",
    "search_df"
   ]
  },
  {
   "cell_type": "code",
   "execution_count": 7,
   "metadata": {},
   "outputs": [
    {
     "data": {
      "text/plain": [
       "'Fun SQLite story, I had a project that needed to do reasonably large scale data processing (gigabytes of data) on a pretty bare boned machine in a pretty bare boned environment at a customer location. I had a fairly up-to-date perl install and notepad. For the process the data needed to look at any single element in the data and find elements similar to it. I thought long and hard about various complex data structures and caching bits to disk to make portions of the problem set fit into memory, and various ways of searching the data. It was okay if the process took a couple days to finish.<p>It suddenly hit me, I wonder if the sysadmins had installed DBD::SQLite...yes they had!<p>Why mess with all that crap if I could just use SQLite. Reasonably fast indexing, expressive searching tools, I could dump the data onto disk <i>and</i> use an in memory SQLite db at the same time, caching solved. It turned weeks of agonizing work (producing fragile code) and turned it into a quick 2 week coding romp. The project was a huge success and spread to a couple other departments.<p>One day they asked if I could advise a group to build a more \"formal\" implementation of the system as they were finding the results valuable. A half dozen developers and a year later they had succeeded in building a friendlier web interface running on a proper RDBMS (Oracle 10something) with some hadoop goodness running the processing stuff on 8 or 9 dedicated machines.<p>In the meantime, and largely because SQLite let me query into the data in more and more useful ways that I hadn\\'t foreseen, I had extended the original prototype significantly and it was outperforming their larger scale solution on a 3 year old, <i>very unimpressive</i>, desktop with the same install of perl and sqlite. On top of the raw calculations, it was also performing some automated results analysis and spitting out ready to present artifacts that could be stuck in your presentation tool of choice. Guess which ones the users actually used?<p>Soon I had a users group, regular monthly releases and was running a semi-regular training class on this cooky command line tool (since most users had never seen a command line). I\\'ve since finished that job up and moved on, and last I heard my little script using SQLite was in heavy use, the enterprise dev team was still struggling getting the performance of their solution up to the levels of my original script, and hadn\\'t even touched the enhancements yet.<p>SQLite was rock-iron solid the entire time. I had a few things I wished it could do, but I usually found a way to manage. I wasn\\'t using it for its feature, it existing <i>was</i> the feature. SQLite sprinkled magic on my one-off hack job and turned into a <i>thing</i> that people ended up using.'"
      ]
     },
     "execution_count": 7,
     "metadata": {},
     "output_type": "execute_result"
    }
   ],
   "source": [
    "search_df.iloc[0]['comment_text']"
   ]
  },
  {
   "cell_type": "markdown",
   "metadata": {},
   "source": [
    "We can of course search on specific columns"
   ]
  },
  {
   "cell_type": "code",
   "execution_count": 8,
   "metadata": {},
   "outputs": [
    {
     "name": "stdout",
     "output_type": "stream",
     "text": [
      "236 ms ± 20.6 ms per loop (mean ± std. dev. of 7 runs, 1 loop each)\n"
     ]
    }
   ],
   "source": [
    "%%timeit\n",
    "with connect(DB_PATH) as db:\n",
    "    search_df = pd.read_sql(\"\"\"\n",
    "                    select *\n",
    "                    from comments_fts\n",
    "                    where comment_text MATCH 'SQLite'\n",
    "                    \"\"\",db\n",
    "                    )\n",
    "search_df"
   ]
  },
  {
   "cell_type": "code",
   "execution_count": null,
   "metadata": {},
   "outputs": [],
   "source": [
    "%%timeit\n",
    "with connect(DB_PATH) as db:\n",
    "    search_df = pd.read_sql(\"\"\"\n",
    "                    select *\n",
    "                    from comments_fts\n",
    "                    where comment_text LIKE '%SQLite%'\n",
    "                    \"\"\",db\n",
    "                    )\n",
    "search_df"
   ]
  },
  {
   "cell_type": "markdown",
   "metadata": {},
   "source": [
    "We can also order by relevance"
   ]
  },
  {
   "cell_type": "code",
   "execution_count": null,
   "metadata": {},
   "outputs": [],
   "source": [
    "with connect(DB_PATH) as db:\n",
    "    search_df = pd.read_sql(\"\"\"\n",
    "                    select *\n",
    "                    from comments_fts\n",
    "                    where comment_text MATCH 'SQLite'\n",
    "                    order by rank\n",
    "                    \"\"\",db\n",
    "                    )\n",
    "search_df"
   ]
  },
  {
   "cell_type": "markdown",
   "metadata": {},
   "source": [
    "Auxiliary functions can be used to retrieve extra information regarding the matched row. \n",
    "\n",
    "For example, an auxiliary function may be used to retrieve a copy of a column value for a matched row with all instances of the matched term surrounded by html <b></b> tags."
   ]
  },
  {
   "cell_type": "code",
   "execution_count": null,
   "metadata": {},
   "outputs": [],
   "source": [
    "with connect(DB_PATH) as db:\n",
    "    search_df = pd.read_sql(\"\"\"\n",
    "                    SELECT highlight(comments_fts, 2, '<b>', '</b>') as matches\n",
    "                    FROM comments_fts\n",
    "                    WHERE comment_text MATCH 'SQLite' and comment_text MATCH 'redis'\n",
    "                    \"\"\",db\n",
    "                    )\n",
    "search_df"
   ]
  },
  {
   "cell_type": "code",
   "execution_count": null,
   "metadata": {},
   "outputs": [],
   "source": [
    "search_df['matches'][1]"
   ]
  },
  {
   "cell_type": "markdown",
   "metadata": {},
   "source": [
    "### Searching for strings"
   ]
  },
  {
   "cell_type": "code",
   "execution_count": null,
   "metadata": {},
   "outputs": [],
   "source": [
    "with connect(DB_PATH) as db:\n",
    "    search_df = pd.read_sql(\"\"\"\n",
    "                    SELECT highlight(comments_fts, 2, '<b>', '</b>') as matches\n",
    "                    FROM comments_fts\n",
    "                    WHERE comment_text MATCH '\"database system\"'\n",
    "                    \"\"\",db\n",
    "                    )\n",
    "search_df"
   ]
  },
  {
   "cell_type": "code",
   "execution_count": null,
   "metadata": {},
   "outputs": [],
   "source": [
    "search_df.matches[0]"
   ]
  },
  {
   "cell_type": "markdown",
   "metadata": {},
   "source": [
    "### Searching for phrases"
   ]
  },
  {
   "cell_type": "code",
   "execution_count": null,
   "metadata": {},
   "outputs": [],
   "source": [
    "with connect(DB_PATH) as db:\n",
    "    search_df = pd.read_sql(\"\"\"\n",
    "                    SELECT highlight(comments_fts, 2, '<***>', '</***>') as matches\n",
    "                    FROM comments_fts\n",
    "                    WHERE comment_text MATCH 'Redis + sqlite'\n",
    "                    \"\"\",db\n",
    "                    )\n",
    "search_df"
   ]
  },
  {
   "cell_type": "code",
   "execution_count": null,
   "metadata": {},
   "outputs": [],
   "source": [
    "search_df['matches'][0]"
   ]
  },
  {
   "cell_type": "markdown",
   "metadata": {},
   "source": [
    "### Prefix queries"
   ]
  },
  {
   "cell_type": "code",
   "execution_count": null,
   "metadata": {},
   "outputs": [],
   "source": [
    "with connect(DB_PATH) as db:\n",
    "    search_df = pd.read_sql(\"\"\"\n",
    "                    SELECT highlight(comments_fts, 2, '<***>', '</***>') as matches\n",
    "                    FROM comments_fts\n",
    "                    WHERE comment_text MATCH 'stats*'\n",
    "                    \"\"\",db\n",
    "                    )\n",
    "search_df"
   ]
  },
  {
   "cell_type": "code",
   "execution_count": null,
   "metadata": {},
   "outputs": [],
   "source": [
    "search_df['matches'][0]"
   ]
  }
 ],
 "metadata": {
  "kernelspec": {
   "display_name": "Python 3 (ipykernel)",
   "language": "python",
   "name": "python3"
  },
  "language_info": {
   "codemirror_mode": {
    "name": "ipython",
    "version": 3
   },
   "file_extension": ".py",
   "mimetype": "text/x-python",
   "name": "python",
   "nbconvert_exporter": "python",
   "pygments_lexer": "ipython3",
   "version": "3.9.7"
  }
 },
 "nbformat": 4,
 "nbformat_minor": 1
}
