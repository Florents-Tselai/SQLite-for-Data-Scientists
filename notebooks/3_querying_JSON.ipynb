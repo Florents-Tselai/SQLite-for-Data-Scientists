{
 "cells": [
  {
   "cell_type": "markdown",
   "metadata": {},
   "source": [
    "# 3. Working with JSON Data"
   ]
  },
  {
   "cell_type": "code",
   "execution_count": 50,
   "metadata": {
    "pycharm": {
     "name": "#%%\n"
    }
   },
   "outputs": [],
   "source": [
    "import json\n",
    "import pandas as pd"
   ]
  },
  {
   "cell_type": "code",
   "execution_count": 51,
   "metadata": {
    "pycharm": {
     "name": "#%%\n"
    }
   },
   "outputs": [],
   "source": [
    "with open('../data/hn_dump.json', 'r') as f:\n",
    "    data = json.load(f)"
   ]
  },
  {
   "cell_type": "code",
   "execution_count": 52,
   "metadata": {},
   "outputs": [
    {
     "data": {
      "text/plain": [
       "{'created_at': '2015-03-10T16:51:05.000Z',\n",
       " 'title': 'Goodbye MongoDB, Hello PostgreSQL',\n",
       " 'url': 'http://developer.olery.com/blog/goodbye-mongodb-hello-postgresql/',\n",
       " 'author': 'YorickPeterse',\n",
       " 'points': 802,\n",
       " 'story_text': None,\n",
       " 'comment_text': None,\n",
       " 'num_comments': 374,\n",
       " 'story_id': None,\n",
       " 'story_title': None,\n",
       " 'story_url': None,\n",
       " 'parent_id': None,\n",
       " 'created_at_i': 1426006265,\n",
       " 'relevancy_score': 5901,\n",
       " '_tags': ['story', 'author_YorickPeterse', 'story_9178773'],\n",
       " 'objectID': '9178773',\n",
       " '_highlightResult': {'title': {'value': 'Goodbye <em>MongoDB</em>, Hello PostgreSQL',\n",
       "   'matchLevel': 'full',\n",
       "   'fullyHighlighted': False,\n",
       "   'matchedWords': ['mongodb']},\n",
       "  'url': {'value': 'http://developer.olery.com/blog/goodbye-<em>mongodb</em>-hello-postgresql/',\n",
       "   'matchLevel': 'full',\n",
       "   'fullyHighlighted': False,\n",
       "   'matchedWords': ['mongodb']},\n",
       "  'author': {'value': 'YorickPeterse',\n",
       "   'matchLevel': 'none',\n",
       "   'matchedWords': []}}}"
      ]
     },
     "execution_count": 52,
     "metadata": {},
     "output_type": "execute_result"
    }
   ],
   "source": [
    "data[0]"
   ]
  },
  {
   "cell_type": "code",
   "execution_count": 53,
   "metadata": {},
   "outputs": [],
   "source": [
    "from sqlite3 import connect"
   ]
  },
  {
   "cell_type": "code",
   "execution_count": 54,
   "metadata": {},
   "outputs": [],
   "source": [
    "DB_PATH = '../sqlite-olt.db'"
   ]
  },
  {
   "cell_type": "code",
   "execution_count": 55,
   "metadata": {},
   "outputs": [],
   "source": [
    "with connect('../sqlite-olt.db') as db:\n",
    "    db.execute(\"create table if not exists hn_items_raw(data)\")"
   ]
  },
  {
   "cell_type": "code",
   "execution_count": 56,
   "metadata": {},
   "outputs": [
    {
     "name": "stdout",
     "output_type": "stream",
     "text": [
      "4.25 s ± 57.2 ms per loop (mean ± std. dev. of 7 runs, 1 loop each)\n"
     ]
    }
   ],
   "source": [
    "%%timeit\n",
    "\n",
    "for item in data:\n",
    "    with connect(DB_PATH) as db:\n",
    "        db.execute(\"insert into hn_items_raw(data) values (?)\", (json.dumps(item),))"
   ]
  },
  {
   "cell_type": "code",
   "execution_count": 57,
   "metadata": {},
   "outputs": [
    {
     "name": "stdout",
     "output_type": "stream",
     "text": [
      "95.7 ms ± 2.54 ms per loop (mean ± std. dev. of 7 runs, 10 loops each)\n"
     ]
    }
   ],
   "source": [
    "%%timeit\n",
    "with connect(DB_PATH) as db:\n",
    "    for item in data:\n",
    "        db.execute(\"insert into hn_items_raw(data) values (?)\", (json.dumps(item),))"
   ]
  },
  {
   "cell_type": "markdown",
   "metadata": {},
   "source": [
    "### Let's tabulate the data"
   ]
  },
  {
   "cell_type": "code",
   "execution_count": 58,
   "metadata": {},
   "outputs": [],
   "source": [
    "with connect(DB_PATH) as db:\n",
    "    db.execute(\"drop view if exists hn_items_fields\")\n",
    "    db.execute(\"\"\"\n",
    "        create view if not exists hn_items_fields as\n",
    "        select \n",
    "            json_extract(data, '$.created_at') as created_at,\n",
    "            json_extract(data, '$.title') as title,\n",
    "            json_extract(data, '$.url') as url,\n",
    "            json_extract(data, '$.author') as author,\n",
    "            json_extract(data, '$.points') as points,\n",
    "            json_extract(data, '$.relevancy_score') as relevancy_score\n",
    "        from hn_items_raw\n",
    "    \"\"\")"
   ]
  },
  {
   "cell_type": "code",
   "execution_count": 59,
   "metadata": {},
   "outputs": [
    {
     "name": "stdout",
     "output_type": "stream",
     "text": [
      "                       created_at  \\\n",
      "0        2015-03-10T16:51:05.000Z   \n",
      "1        2020-05-23T18:33:05.000Z   \n",
      "2        2011-11-06T07:05:13.000Z   \n",
      "3        2015-04-21T23:08:12.000Z   \n",
      "4        2020-05-24T11:42:01.000Z   \n",
      "...                           ...   \n",
      "1339995  2019-10-08T19:24:46.000Z   \n",
      "1339996  2019-10-07T16:07:13.000Z   \n",
      "1339997  2019-09-16T14:04:32.000Z   \n",
      "1339998  2019-09-15T17:29:17.000Z   \n",
      "1339999  2019-09-12T21:55:23.000Z   \n",
      "\n",
      "                                                     title  \\\n",
      "0                        Goodbye MongoDB, Hello PostgreSQL   \n",
      "1        Jepsen Disputes MongoDB's Data Consistency Claims   \n",
      "2                                        Don't use MongoDB   \n",
      "3                       Call Me Maybe: MongoDB Stale Reads   \n",
      "4                                    Jepsen: MongoDB 4.2.6   \n",
      "...                                                    ...   \n",
      "1339995  ReMarkable Raises 15M USD Series A from Spark ...   \n",
      "1339996  Test-Driven Development for Big Data and Apach...   \n",
      "1339997  ETL and Data Enrichment with Spark.NET and ML....   \n",
      "1339998  Implementing the Gaussian Mixture Model Algori...   \n",
      "1339999  A CIA suicide sparks hard questions about the ...   \n",
      "\n",
      "                                                       url         author  \\\n",
      "0        http://developer.olery.com/blog/goodbye-mongod...  YorickPeterse   \n",
      "1        https://www.infoq.com/news/2020/05/Jepsen-Mong...   anarchyrucks   \n",
      "2                   http://pastebin.com/raw.php?i=FD3xe6Jt         nmongo   \n",
      "3        https://aphyr.com/posts/322-call-me-maybe-mong...        llambda   \n",
      "4                  http://jepsen.io/analyses/mongodb-4.2.6          aphyr   \n",
      "...                                                    ...            ...   \n",
      "1339995  https://blog.remarkable.com/remarkable-raises-...        maaaats   \n",
      "1339996  https://www.xenonstack.com/blog/test-driven-de...        mooreds   \n",
      "1339997  http://luisquintanilla.me/2019/09/15/restauran...  ljquintanilla   \n",
      "1339998  https://naifmehanna.com/2019-09-11-Writing-you...        naifmeh   \n",
      "1339999  https://www.washingtonpost.com/local/a-cia-sui...         erentz   \n",
      "\n",
      "         points  relevancy_score  \n",
      "0           802           5901.0  \n",
      "1           791              NaN  \n",
      "2           695           3549.0  \n",
      "3           605           5982.0  \n",
      "4           604              NaN  \n",
      "...         ...              ...  \n",
      "1339995       3              NaN  \n",
      "1339996       3              NaN  \n",
      "1339997       3           9070.0  \n",
      "1339998       3           9057.0  \n",
      "1339999       3           9057.0  \n",
      "\n",
      "[1340000 rows x 6 columns]\n"
     ]
    }
   ],
   "source": [
    "with connect(DB_PATH) as db:\n",
    "    print(pd.read_sql('select * from hn_items_fields', db))"
   ]
  },
  {
   "cell_type": "code",
   "execution_count": 73,
   "metadata": {},
   "outputs": [],
   "source": [
    "filter_wapo_query = \"\"\"\n",
    "select json_extract(data, '$.created_at'), json_extract(data, '$.url')\n",
    "from hn_items_raw\n",
    "where json_extract(data, '$.url') like '%washingtonpost.com%'\n",
    "\"\"\""
   ]
  },
  {
   "cell_type": "code",
   "execution_count": 74,
   "metadata": {},
   "outputs": [
    {
     "name": "stdout",
     "output_type": "stream",
     "text": [
      "3.61 s ± 98 ms per loop (mean ± std. dev. of 7 runs, 1 loop each)\n"
     ]
    }
   ],
   "source": [
    "%%timeit\n",
    "with connect(DB_PATH) as db:\n",
    "    df = pd.read_sql(filter_wapo_query, db)"
   ]
  },
  {
   "cell_type": "markdown",
   "metadata": {},
   "source": [
    "### How can we speed this up ? "
   ]
  },
  {
   "cell_type": "code",
   "execution_count": 77,
   "metadata": {},
   "outputs": [
    {
     "name": "stdout",
     "output_type": "stream",
     "text": [
      "<sqlite3.Cursor object at 0x7fbb7c1b0c00>\n"
     ]
    }
   ],
   "source": [
    "create_idx_query = \"create index if not exists idx_filter_wapo on hn_items_raw (json_extract(data, '$.url') like '%washingtonpost.com%')\"\n",
    "with connect(DB_PATH) as db:\n",
    "    print(db.execute(create_idx_query))"
   ]
  },
  {
   "cell_type": "code",
   "execution_count": 78,
   "metadata": {},
   "outputs": [
    {
     "name": "stdout",
     "output_type": "stream",
     "text": [
      "3.43 s ± 49.1 ms per loop (mean ± std. dev. of 7 runs, 1 loop each)\n"
     ]
    }
   ],
   "source": [
    "%%timeit\n",
    "with connect(DB_PATH) as db:\n",
    "    df = pd.read_sql(filter_wapo_query, db)"
   ]
  },
  {
   "cell_type": "code",
   "execution_count": null,
   "metadata": {},
   "outputs": [],
   "source": []
  }
 ],
 "metadata": {
  "kernelspec": {
   "display_name": "Python 3",
   "language": "python",
   "name": "python3"
  },
  "language_info": {
   "codemirror_mode": {
    "name": "ipython",
    "version": 3
   },
   "file_extension": ".py",
   "mimetype": "text/x-python",
   "name": "python",
   "nbconvert_exporter": "python",
   "pygments_lexer": "ipython3",
   "version": "3.8.5"
  }
 },
 "nbformat": 4,
 "nbformat_minor": 1
}
